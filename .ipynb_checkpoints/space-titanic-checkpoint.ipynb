{
 "cells": [
  {
   "cell_type": "markdown",
   "id": "58a89a95",
   "metadata": {},
   "source": [
    "# 1. IMPORTING LIBRARIES AND LOADING DATA"
   ]
  },
  {
   "cell_type": "code",
   "execution_count": 1,
   "id": "6e159df8",
   "metadata": {
    "ExecuteTime": {
     "end_time": "2022-07-28T13:29:27.788784Z",
     "start_time": "2022-07-28T13:29:16.104979Z"
    }
   },
   "outputs": [],
   "source": [
    "import numpy as np\n",
    "import pandas as pd\n",
    "import matplotlib.pyplot as plt\n",
    "import seaborn as sns\n",
    "from sklearn import ensemble,linear_model\n",
    "%matplotlib inline\n",
    "from sklearn.preprocessing import LabelEncoder,OneHotEncoder,QuantileTransformer\n",
    "from sklearn.pipeline import make_pipeline\n",
    "import warnings\n",
    "warnings.filterwarnings('ignore')\n",
    "\n",
    "train_df = pd.read_csv('./train.csv')\n",
    "test_df = pd.read_csv('./test.csv')\n",
    "sample_sub = pd.read_csv('./sample_submission.csv')\n"
   ]
  },
  {
   "cell_type": "code",
   "execution_count": 2,
   "id": "4d101831",
   "metadata": {
    "ExecuteTime": {
     "end_time": "2022-07-28T13:29:27.886741Z",
     "start_time": "2022-07-28T13:29:27.788784Z"
    },
    "scrolled": true
   },
   "outputs": [
    {
     "data": {
      "text/html": [
       "<div>\n",
       "<style scoped>\n",
       "    .dataframe tbody tr th:only-of-type {\n",
       "        vertical-align: middle;\n",
       "    }\n",
       "\n",
       "    .dataframe tbody tr th {\n",
       "        vertical-align: top;\n",
       "    }\n",
       "\n",
       "    .dataframe thead th {\n",
       "        text-align: right;\n",
       "    }\n",
       "</style>\n",
       "<table border=\"1\" class=\"dataframe\">\n",
       "  <thead>\n",
       "    <tr style=\"text-align: right;\">\n",
       "      <th></th>\n",
       "      <th>PassengerId</th>\n",
       "      <th>HomePlanet</th>\n",
       "      <th>CryoSleep</th>\n",
       "      <th>Cabin</th>\n",
       "      <th>Destination</th>\n",
       "      <th>Age</th>\n",
       "      <th>VIP</th>\n",
       "      <th>RoomService</th>\n",
       "      <th>FoodCourt</th>\n",
       "      <th>ShoppingMall</th>\n",
       "      <th>Spa</th>\n",
       "      <th>VRDeck</th>\n",
       "      <th>Name</th>\n",
       "      <th>Transported</th>\n",
       "    </tr>\n",
       "  </thead>\n",
       "  <tbody>\n",
       "    <tr>\n",
       "      <th>0</th>\n",
       "      <td>0001_01</td>\n",
       "      <td>Europa</td>\n",
       "      <td>False</td>\n",
       "      <td>B/0/P</td>\n",
       "      <td>TRAPPIST-1e</td>\n",
       "      <td>39.0</td>\n",
       "      <td>False</td>\n",
       "      <td>0.0</td>\n",
       "      <td>0.0</td>\n",
       "      <td>0.0</td>\n",
       "      <td>0.0</td>\n",
       "      <td>0.0</td>\n",
       "      <td>Maham Ofracculy</td>\n",
       "      <td>False</td>\n",
       "    </tr>\n",
       "    <tr>\n",
       "      <th>1</th>\n",
       "      <td>0002_01</td>\n",
       "      <td>Earth</td>\n",
       "      <td>False</td>\n",
       "      <td>F/0/S</td>\n",
       "      <td>TRAPPIST-1e</td>\n",
       "      <td>24.0</td>\n",
       "      <td>False</td>\n",
       "      <td>109.0</td>\n",
       "      <td>9.0</td>\n",
       "      <td>25.0</td>\n",
       "      <td>549.0</td>\n",
       "      <td>44.0</td>\n",
       "      <td>Juanna Vines</td>\n",
       "      <td>True</td>\n",
       "    </tr>\n",
       "    <tr>\n",
       "      <th>2</th>\n",
       "      <td>0003_01</td>\n",
       "      <td>Europa</td>\n",
       "      <td>False</td>\n",
       "      <td>A/0/S</td>\n",
       "      <td>TRAPPIST-1e</td>\n",
       "      <td>58.0</td>\n",
       "      <td>True</td>\n",
       "      <td>43.0</td>\n",
       "      <td>3576.0</td>\n",
       "      <td>0.0</td>\n",
       "      <td>6715.0</td>\n",
       "      <td>49.0</td>\n",
       "      <td>Altark Susent</td>\n",
       "      <td>False</td>\n",
       "    </tr>\n",
       "    <tr>\n",
       "      <th>3</th>\n",
       "      <td>0003_02</td>\n",
       "      <td>Europa</td>\n",
       "      <td>False</td>\n",
       "      <td>A/0/S</td>\n",
       "      <td>TRAPPIST-1e</td>\n",
       "      <td>33.0</td>\n",
       "      <td>False</td>\n",
       "      <td>0.0</td>\n",
       "      <td>1283.0</td>\n",
       "      <td>371.0</td>\n",
       "      <td>3329.0</td>\n",
       "      <td>193.0</td>\n",
       "      <td>Solam Susent</td>\n",
       "      <td>False</td>\n",
       "    </tr>\n",
       "    <tr>\n",
       "      <th>4</th>\n",
       "      <td>0004_01</td>\n",
       "      <td>Earth</td>\n",
       "      <td>False</td>\n",
       "      <td>F/1/S</td>\n",
       "      <td>TRAPPIST-1e</td>\n",
       "      <td>16.0</td>\n",
       "      <td>False</td>\n",
       "      <td>303.0</td>\n",
       "      <td>70.0</td>\n",
       "      <td>151.0</td>\n",
       "      <td>565.0</td>\n",
       "      <td>2.0</td>\n",
       "      <td>Willy Santantines</td>\n",
       "      <td>True</td>\n",
       "    </tr>\n",
       "    <tr>\n",
       "      <th>5</th>\n",
       "      <td>0005_01</td>\n",
       "      <td>Earth</td>\n",
       "      <td>False</td>\n",
       "      <td>F/0/P</td>\n",
       "      <td>PSO J318.5-22</td>\n",
       "      <td>44.0</td>\n",
       "      <td>False</td>\n",
       "      <td>0.0</td>\n",
       "      <td>483.0</td>\n",
       "      <td>0.0</td>\n",
       "      <td>291.0</td>\n",
       "      <td>0.0</td>\n",
       "      <td>Sandie Hinetthews</td>\n",
       "      <td>True</td>\n",
       "    </tr>\n",
       "    <tr>\n",
       "      <th>6</th>\n",
       "      <td>0006_01</td>\n",
       "      <td>Earth</td>\n",
       "      <td>False</td>\n",
       "      <td>F/2/S</td>\n",
       "      <td>TRAPPIST-1e</td>\n",
       "      <td>26.0</td>\n",
       "      <td>False</td>\n",
       "      <td>42.0</td>\n",
       "      <td>1539.0</td>\n",
       "      <td>3.0</td>\n",
       "      <td>0.0</td>\n",
       "      <td>0.0</td>\n",
       "      <td>Billex Jacostaffey</td>\n",
       "      <td>True</td>\n",
       "    </tr>\n",
       "    <tr>\n",
       "      <th>7</th>\n",
       "      <td>0006_02</td>\n",
       "      <td>Earth</td>\n",
       "      <td>True</td>\n",
       "      <td>G/0/S</td>\n",
       "      <td>TRAPPIST-1e</td>\n",
       "      <td>28.0</td>\n",
       "      <td>False</td>\n",
       "      <td>0.0</td>\n",
       "      <td>0.0</td>\n",
       "      <td>0.0</td>\n",
       "      <td>0.0</td>\n",
       "      <td>NaN</td>\n",
       "      <td>Candra Jacostaffey</td>\n",
       "      <td>True</td>\n",
       "    </tr>\n",
       "    <tr>\n",
       "      <th>8</th>\n",
       "      <td>0007_01</td>\n",
       "      <td>Earth</td>\n",
       "      <td>False</td>\n",
       "      <td>F/3/S</td>\n",
       "      <td>TRAPPIST-1e</td>\n",
       "      <td>35.0</td>\n",
       "      <td>False</td>\n",
       "      <td>0.0</td>\n",
       "      <td>785.0</td>\n",
       "      <td>17.0</td>\n",
       "      <td>216.0</td>\n",
       "      <td>0.0</td>\n",
       "      <td>Andona Beston</td>\n",
       "      <td>True</td>\n",
       "    </tr>\n",
       "    <tr>\n",
       "      <th>9</th>\n",
       "      <td>0008_01</td>\n",
       "      <td>Europa</td>\n",
       "      <td>True</td>\n",
       "      <td>B/1/P</td>\n",
       "      <td>55 Cancri e</td>\n",
       "      <td>14.0</td>\n",
       "      <td>False</td>\n",
       "      <td>0.0</td>\n",
       "      <td>0.0</td>\n",
       "      <td>0.0</td>\n",
       "      <td>0.0</td>\n",
       "      <td>0.0</td>\n",
       "      <td>Erraiam Flatic</td>\n",
       "      <td>True</td>\n",
       "    </tr>\n",
       "  </tbody>\n",
       "</table>\n",
       "</div>"
      ],
      "text/plain": [
       "  PassengerId HomePlanet CryoSleep  Cabin    Destination   Age    VIP  \\\n",
       "0     0001_01     Europa     False  B/0/P    TRAPPIST-1e  39.0  False   \n",
       "1     0002_01      Earth     False  F/0/S    TRAPPIST-1e  24.0  False   \n",
       "2     0003_01     Europa     False  A/0/S    TRAPPIST-1e  58.0   True   \n",
       "3     0003_02     Europa     False  A/0/S    TRAPPIST-1e  33.0  False   \n",
       "4     0004_01      Earth     False  F/1/S    TRAPPIST-1e  16.0  False   \n",
       "5     0005_01      Earth     False  F/0/P  PSO J318.5-22  44.0  False   \n",
       "6     0006_01      Earth     False  F/2/S    TRAPPIST-1e  26.0  False   \n",
       "7     0006_02      Earth      True  G/0/S    TRAPPIST-1e  28.0  False   \n",
       "8     0007_01      Earth     False  F/3/S    TRAPPIST-1e  35.0  False   \n",
       "9     0008_01     Europa      True  B/1/P    55 Cancri e  14.0  False   \n",
       "\n",
       "   RoomService  FoodCourt  ShoppingMall     Spa  VRDeck                Name  \\\n",
       "0          0.0        0.0           0.0     0.0     0.0     Maham Ofracculy   \n",
       "1        109.0        9.0          25.0   549.0    44.0        Juanna Vines   \n",
       "2         43.0     3576.0           0.0  6715.0    49.0       Altark Susent   \n",
       "3          0.0     1283.0         371.0  3329.0   193.0        Solam Susent   \n",
       "4        303.0       70.0         151.0   565.0     2.0   Willy Santantines   \n",
       "5          0.0      483.0           0.0   291.0     0.0   Sandie Hinetthews   \n",
       "6         42.0     1539.0           3.0     0.0     0.0  Billex Jacostaffey   \n",
       "7          0.0        0.0           0.0     0.0     NaN  Candra Jacostaffey   \n",
       "8          0.0      785.0          17.0   216.0     0.0       Andona Beston   \n",
       "9          0.0        0.0           0.0     0.0     0.0      Erraiam Flatic   \n",
       "\n",
       "   Transported  \n",
       "0        False  \n",
       "1         True  \n",
       "2        False  \n",
       "3        False  \n",
       "4         True  \n",
       "5         True  \n",
       "6         True  \n",
       "7         True  \n",
       "8         True  \n",
       "9         True  "
      ]
     },
     "execution_count": 2,
     "metadata": {},
     "output_type": "execute_result"
    }
   ],
   "source": [
    "train_df.head(10)"
   ]
  },
  {
   "cell_type": "markdown",
   "id": "6b4ecac0",
   "metadata": {},
   "source": [
    "The data is gotten from extra-planetary travelers who were transported away from their spaceship after a calamity in space"
   ]
  },
  {
   "cell_type": "code",
   "execution_count": 3,
   "id": "acd5059e",
   "metadata": {
    "ExecuteTime": {
     "end_time": "2022-07-28T13:29:27.942695Z",
     "start_time": "2022-07-28T13:29:27.891735Z"
    }
   },
   "outputs": [
    {
     "data": {
      "text/plain": [
       "8473"
      ]
     },
     "execution_count": 3,
     "metadata": {},
     "output_type": "execute_result"
    }
   ],
   "source": [
    "train_df.Name.nunique()"
   ]
  },
  {
   "cell_type": "code",
   "execution_count": 4,
   "id": "8fe0696b",
   "metadata": {
    "ExecuteTime": {
     "end_time": "2022-07-28T13:29:28.051692Z",
     "start_time": "2022-07-28T13:29:27.947696Z"
    },
    "scrolled": true
   },
   "outputs": [
    {
     "data": {
      "text/plain": [
       "((8693, 14), (4277, 13), (4277, 2))"
      ]
     },
     "execution_count": 4,
     "metadata": {},
     "output_type": "execute_result"
    }
   ],
   "source": [
    "train_df.shape,test_df.shape,sample_sub.shape"
   ]
  },
  {
   "cell_type": "markdown",
   "id": "d53f1999",
   "metadata": {},
   "source": [
    "# 2. DATA WRANGLING AND PREPROCESSING"
   ]
  },
  {
   "cell_type": "code",
   "execution_count": 5,
   "id": "d42be45d",
   "metadata": {
    "ExecuteTime": {
     "end_time": "2022-07-28T13:29:28.205776Z",
     "start_time": "2022-07-28T13:29:28.054743Z"
    },
    "scrolled": true
   },
   "outputs": [
    {
     "data": {
      "text/plain": [
       "PassengerId       0\n",
       "HomePlanet      288\n",
       "CryoSleep       310\n",
       "Cabin           299\n",
       "Destination     274\n",
       "Age             270\n",
       "VIP             296\n",
       "RoomService     263\n",
       "FoodCourt       289\n",
       "ShoppingMall    306\n",
       "Spa             284\n",
       "VRDeck          268\n",
       "Name            294\n",
       "dtype: int64"
      ]
     },
     "execution_count": 5,
     "metadata": {},
     "output_type": "execute_result"
    }
   ],
   "source": [
    "transported = train_df.pop('Transported') # TARGET\n",
    "\n",
    "all_df = pd.concat([train_df,test_df],ignore_index=True)\n",
    "all_df.isna().sum()"
   ]
  },
  {
   "cell_type": "code",
   "execution_count": 6,
   "id": "9721da8e",
   "metadata": {
    "ExecuteTime": {
     "end_time": "2022-07-28T13:29:28.321842Z",
     "start_time": "2022-07-28T13:29:28.207698Z"
    }
   },
   "outputs": [
    {
     "name": "stdout",
     "output_type": "stream",
     "text": [
      "Passengers Transported\n",
      "4378\n",
      "Passengers not Transported\n",
      "4315\n"
     ]
    }
   ],
   "source": [
    "print('Passengers Transported')\n",
    "print(len([i for i in transported if i==True]))\n",
    "print('Passengers not Transported')\n",
    "print(len([i for i in transported if i==False]))"
   ]
  },
  {
   "cell_type": "markdown",
   "id": "965112d2",
   "metadata": {},
   "source": [
    "## check for missing values"
   ]
  },
  {
   "cell_type": "code",
   "execution_count": 7,
   "id": "e70e8408",
   "metadata": {
    "ExecuteTime": {
     "end_time": "2022-07-28T13:29:28.440891Z",
     "start_time": "2022-07-28T13:29:28.324877Z"
    }
   },
   "outputs": [
    {
     "data": {
      "text/plain": [
       "PassengerId       0\n",
       "HomePlanet      288\n",
       "CryoSleep       310\n",
       "Cabin           299\n",
       "Destination     274\n",
       "Age             270\n",
       "VIP             296\n",
       "RoomService     263\n",
       "FoodCourt       289\n",
       "ShoppingMall    306\n",
       "Spa             284\n",
       "VRDeck          268\n",
       "Name            294\n",
       "dtype: int64"
      ]
     },
     "execution_count": 7,
     "metadata": {},
     "output_type": "execute_result"
    }
   ],
   "source": [
    "all_df.isna().sum()"
   ]
  },
  {
   "cell_type": "code",
   "execution_count": 8,
   "id": "c5c33446",
   "metadata": {
    "ExecuteTime": {
     "end_time": "2022-07-28T13:29:28.544863Z",
     "start_time": "2022-07-28T13:29:28.443840Z"
    }
   },
   "outputs": [
    {
     "data": {
      "text/plain": [
       "Earth     6865\n",
       "Europa    3133\n",
       "Mars      2684\n",
       "Name: HomePlanet, dtype: int64"
      ]
     },
     "execution_count": 8,
     "metadata": {},
     "output_type": "execute_result"
    }
   ],
   "source": [
    "all_df.HomePlanet.value_counts()"
   ]
  },
  {
   "cell_type": "code",
   "execution_count": 9,
   "id": "124843e8",
   "metadata": {
    "ExecuteTime": {
     "end_time": "2022-07-28T13:29:28.659046Z",
     "start_time": "2022-07-28T13:29:28.550889Z"
    }
   },
   "outputs": [
    {
     "data": {
      "text/plain": [
       "False    12401\n",
       "True       273\n",
       "Name: VIP, dtype: int64"
      ]
     },
     "execution_count": 9,
     "metadata": {},
     "output_type": "execute_result"
    }
   ],
   "source": [
    "all_df.VIP.value_counts()"
   ]
  },
  {
   "cell_type": "code",
   "execution_count": 10,
   "id": "a8e5e545",
   "metadata": {
    "ExecuteTime": {
     "end_time": "2022-07-28T13:29:28.831055Z",
     "start_time": "2022-07-28T13:29:28.662039Z"
    }
   },
   "outputs": [
    {
     "data": {
      "text/plain": [
       "G/734/S     8\n",
       "G/160/P     8\n",
       "D/176/S     7\n",
       "G/1476/S    7\n",
       "B/201/P     7\n",
       "           ..\n",
       "E/317/P     1\n",
       "F/1039/P    1\n",
       "F/1038/P    1\n",
       "C/158/P     1\n",
       "G/1498/S    1\n",
       "Name: Cabin, Length: 9825, dtype: int64"
      ]
     },
     "execution_count": 10,
     "metadata": {},
     "output_type": "execute_result"
    }
   ],
   "source": [
    "all_df.Cabin.value_counts()"
   ]
  },
  {
   "cell_type": "code",
   "execution_count": 11,
   "id": "affb7fe4",
   "metadata": {
    "ExecuteTime": {
     "end_time": "2022-07-28T13:29:28.942462Z",
     "start_time": "2022-07-28T13:29:28.833079Z"
    }
   },
   "outputs": [
    {
     "data": {
      "text/plain": [
       "0.0       8303\n",
       "1.0        185\n",
       "2.0        113\n",
       "3.0         89\n",
       "4.0         71\n",
       "          ... \n",
       "263.0        1\n",
       "271.0        1\n",
       "922.0        1\n",
       "3905.0       1\n",
       "652.0        1\n",
       "Name: RoomService, Length: 1578, dtype: int64"
      ]
     },
     "execution_count": 11,
     "metadata": {},
     "output_type": "execute_result"
    }
   ],
   "source": [
    "all_df.RoomService.value_counts()"
   ]
  },
  {
   "cell_type": "code",
   "execution_count": 12,
   "id": "dda2b695",
   "metadata": {
    "ExecuteTime": {
     "end_time": "2022-07-28T13:29:29.098433Z",
     "start_time": "2022-07-28T13:29:28.945415Z"
    }
   },
   "outputs": [
    {
     "data": {
      "text/plain": [
       "0.0        8146\n",
       "1.0         175\n",
       "2.0         105\n",
       "4.0          75\n",
       "3.0          74\n",
       "           ... \n",
       "2853.0        1\n",
       "9495.0        1\n",
       "342.0         1\n",
       "11552.0       1\n",
       "601.0         1\n",
       "Name: FoodCourt, Length: 1953, dtype: int64"
      ]
     },
     "execution_count": 12,
     "metadata": {},
     "output_type": "execute_result"
    }
   ],
   "source": [
    "all_df.FoodCourt.value_counts()"
   ]
  },
  {
   "cell_type": "code",
   "execution_count": 13,
   "id": "da2be10f",
   "metadata": {
    "ExecuteTime": {
     "end_time": "2022-07-28T13:29:29.213431Z",
     "start_time": "2022-07-28T13:29:29.101416Z"
    }
   },
   "outputs": [
    {
     "data": {
      "text/plain": [
       "0.0       8331\n",
       "1.0        225\n",
       "2.0        112\n",
       "3.0         94\n",
       "4.0         69\n",
       "          ... \n",
       "751.0        1\n",
       "1573.0       1\n",
       "1541.0       1\n",
       "1661.0       1\n",
       "3851.0       1\n",
       "Name: ShoppingMall, Length: 1367, dtype: int64"
      ]
     },
     "execution_count": 13,
     "metadata": {},
     "output_type": "execute_result"
    }
   ],
   "source": [
    "all_df.ShoppingMall.value_counts()"
   ]
  },
  {
   "cell_type": "code",
   "execution_count": 14,
   "id": "2cd40784",
   "metadata": {
    "ExecuteTime": {
     "end_time": "2022-07-28T13:29:29.338688Z",
     "start_time": "2022-07-28T13:29:29.216438Z"
    }
   },
   "outputs": [
    {
     "data": {
      "text/plain": [
       "0.0       7935\n",
       "1.0        218\n",
       "2.0        148\n",
       "3.0         82\n",
       "4.0         73\n",
       "          ... \n",
       "971.0        1\n",
       "2290.0       1\n",
       "1450.0       1\n",
       "4517.0       1\n",
       "1812.0       1\n",
       "Name: Spa, Length: 1679, dtype: int64"
      ]
     },
     "execution_count": 14,
     "metadata": {},
     "output_type": "execute_result"
    }
   ],
   "source": [
    "all_df.Spa.value_counts()"
   ]
  },
  {
   "cell_type": "code",
   "execution_count": 15,
   "id": "e0e40a89",
   "metadata": {
    "ExecuteTime": {
     "end_time": "2022-07-28T13:29:29.463251Z",
     "start_time": "2022-07-28T13:29:29.341703Z"
    }
   },
   "outputs": [
    {
     "data": {
      "text/plain": [
       "0.0       8252\n",
       "1.0        211\n",
       "2.0        108\n",
       "3.0         89\n",
       "5.0         68\n",
       "          ... \n",
       "395.0        1\n",
       "3186.0       1\n",
       "2519.0       1\n",
       "1652.0       1\n",
       "494.0        1\n",
       "Name: VRDeck, Length: 1642, dtype: int64"
      ]
     },
     "execution_count": 15,
     "metadata": {},
     "output_type": "execute_result"
    }
   ],
   "source": [
    "all_df.VRDeck.value_counts()"
   ]
  },
  {
   "cell_type": "code",
   "execution_count": 16,
   "id": "e374f8b2",
   "metadata": {
    "ExecuteTime": {
     "end_time": "2022-07-28T13:29:29.585254Z",
     "start_time": "2022-07-28T13:29:29.466233Z"
    }
   },
   "outputs": [
    {
     "data": {
      "text/plain": [
       "18.0    496\n",
       "24.0    482\n",
       "21.0    468\n",
       "19.0    455\n",
       "22.0    454\n",
       "       ... \n",
       "75.0      6\n",
       "79.0      5\n",
       "78.0      4\n",
       "77.0      3\n",
       "76.0      2\n",
       "Name: Age, Length: 80, dtype: int64"
      ]
     },
     "execution_count": 16,
     "metadata": {},
     "output_type": "execute_result"
    }
   ],
   "source": [
    "all_df.Age.value_counts()"
   ]
  },
  {
   "cell_type": "code",
   "execution_count": 17,
   "id": "a2390570",
   "metadata": {
    "ExecuteTime": {
     "end_time": "2022-07-28T13:29:29.700233Z",
     "start_time": "2022-07-28T13:29:29.588233Z"
    }
   },
   "outputs": [
    {
     "data": {
      "text/plain": [
       "False    8079\n",
       "True     4581\n",
       "Name: CryoSleep, dtype: int64"
      ]
     },
     "execution_count": 17,
     "metadata": {},
     "output_type": "execute_result"
    }
   ],
   "source": [
    "all_df.CryoSleep.value_counts()"
   ]
  },
  {
   "cell_type": "code",
   "execution_count": 18,
   "id": "2102e76e",
   "metadata": {
    "ExecuteTime": {
     "end_time": "2022-07-28T13:29:29.874641Z",
     "start_time": "2022-07-28T13:29:29.702229Z"
    }
   },
   "outputs": [
    {
     "data": {
      "text/plain": [
       "TRAPPIST-1e      8871\n",
       "55 Cancri e      2641\n",
       "PSO J318.5-22    1184\n",
       "Name: Destination, dtype: int64"
      ]
     },
     "execution_count": 18,
     "metadata": {},
     "output_type": "execute_result"
    }
   ],
   "source": [
    "all_df.Destination.value_counts()"
   ]
  },
  {
   "cell_type": "code",
   "execution_count": 19,
   "id": "c1fc80fe-e702-41b7-b142-de34357f8550",
   "metadata": {
    "ExecuteTime": {
     "end_time": "2022-07-28T13:29:30.257358Z",
     "start_time": "2022-07-28T13:29:29.877596Z"
    }
   },
   "outputs": [],
   "source": [
    "from sklearn.preprocessing import StandardScaler\n",
    "from sklearn.impute import SimpleImputer\n",
    "\n",
    "imp_freq = SimpleImputer(strategy='most_frequent')\n",
    "all_df[all_df.columns] = imp_freq.fit_transform(all_df)\n",
    "\n"
   ]
  },
  {
   "cell_type": "code",
   "execution_count": 20,
   "id": "ff6453a8",
   "metadata": {
    "ExecuteTime": {
     "end_time": "2022-07-28T13:29:30.294579Z",
     "start_time": "2022-07-28T13:29:30.259366Z"
    }
   },
   "outputs": [
    {
     "data": {
      "text/html": [
       "<div>\n",
       "<style scoped>\n",
       "    .dataframe tbody tr th:only-of-type {\n",
       "        vertical-align: middle;\n",
       "    }\n",
       "\n",
       "    .dataframe tbody tr th {\n",
       "        vertical-align: top;\n",
       "    }\n",
       "\n",
       "    .dataframe thead th {\n",
       "        text-align: right;\n",
       "    }\n",
       "</style>\n",
       "<table border=\"1\" class=\"dataframe\">\n",
       "  <thead>\n",
       "    <tr style=\"text-align: right;\">\n",
       "      <th></th>\n",
       "      <th>PassengerId</th>\n",
       "      <th>HomePlanet</th>\n",
       "      <th>CryoSleep</th>\n",
       "      <th>Cabin</th>\n",
       "      <th>Destination</th>\n",
       "      <th>Age</th>\n",
       "      <th>VIP</th>\n",
       "      <th>RoomService</th>\n",
       "      <th>FoodCourt</th>\n",
       "      <th>ShoppingMall</th>\n",
       "      <th>Spa</th>\n",
       "      <th>VRDeck</th>\n",
       "      <th>Name</th>\n",
       "    </tr>\n",
       "  </thead>\n",
       "  <tbody>\n",
       "    <tr>\n",
       "      <th>0</th>\n",
       "      <td>0001_01</td>\n",
       "      <td>Europa</td>\n",
       "      <td>False</td>\n",
       "      <td>B/0/P</td>\n",
       "      <td>TRAPPIST-1e</td>\n",
       "      <td>39.0</td>\n",
       "      <td>False</td>\n",
       "      <td>0.0</td>\n",
       "      <td>0.0</td>\n",
       "      <td>0.0</td>\n",
       "      <td>0.0</td>\n",
       "      <td>0.0</td>\n",
       "      <td>Maham Ofracculy</td>\n",
       "    </tr>\n",
       "    <tr>\n",
       "      <th>1</th>\n",
       "      <td>0002_01</td>\n",
       "      <td>Earth</td>\n",
       "      <td>False</td>\n",
       "      <td>F/0/S</td>\n",
       "      <td>TRAPPIST-1e</td>\n",
       "      <td>24.0</td>\n",
       "      <td>False</td>\n",
       "      <td>109.0</td>\n",
       "      <td>9.0</td>\n",
       "      <td>25.0</td>\n",
       "      <td>549.0</td>\n",
       "      <td>44.0</td>\n",
       "      <td>Juanna Vines</td>\n",
       "    </tr>\n",
       "    <tr>\n",
       "      <th>2</th>\n",
       "      <td>0003_01</td>\n",
       "      <td>Europa</td>\n",
       "      <td>False</td>\n",
       "      <td>A/0/S</td>\n",
       "      <td>TRAPPIST-1e</td>\n",
       "      <td>58.0</td>\n",
       "      <td>True</td>\n",
       "      <td>43.0</td>\n",
       "      <td>3576.0</td>\n",
       "      <td>0.0</td>\n",
       "      <td>6715.0</td>\n",
       "      <td>49.0</td>\n",
       "      <td>Altark Susent</td>\n",
       "    </tr>\n",
       "    <tr>\n",
       "      <th>3</th>\n",
       "      <td>0003_02</td>\n",
       "      <td>Europa</td>\n",
       "      <td>False</td>\n",
       "      <td>A/0/S</td>\n",
       "      <td>TRAPPIST-1e</td>\n",
       "      <td>33.0</td>\n",
       "      <td>False</td>\n",
       "      <td>0.0</td>\n",
       "      <td>1283.0</td>\n",
       "      <td>371.0</td>\n",
       "      <td>3329.0</td>\n",
       "      <td>193.0</td>\n",
       "      <td>Solam Susent</td>\n",
       "    </tr>\n",
       "    <tr>\n",
       "      <th>4</th>\n",
       "      <td>0004_01</td>\n",
       "      <td>Earth</td>\n",
       "      <td>False</td>\n",
       "      <td>F/1/S</td>\n",
       "      <td>TRAPPIST-1e</td>\n",
       "      <td>16.0</td>\n",
       "      <td>False</td>\n",
       "      <td>303.0</td>\n",
       "      <td>70.0</td>\n",
       "      <td>151.0</td>\n",
       "      <td>565.0</td>\n",
       "      <td>2.0</td>\n",
       "      <td>Willy Santantines</td>\n",
       "    </tr>\n",
       "    <tr>\n",
       "      <th>...</th>\n",
       "      <td>...</td>\n",
       "      <td>...</td>\n",
       "      <td>...</td>\n",
       "      <td>...</td>\n",
       "      <td>...</td>\n",
       "      <td>...</td>\n",
       "      <td>...</td>\n",
       "      <td>...</td>\n",
       "      <td>...</td>\n",
       "      <td>...</td>\n",
       "      <td>...</td>\n",
       "      <td>...</td>\n",
       "      <td>...</td>\n",
       "    </tr>\n",
       "    <tr>\n",
       "      <th>12965</th>\n",
       "      <td>9266_02</td>\n",
       "      <td>Earth</td>\n",
       "      <td>True</td>\n",
       "      <td>G/1496/S</td>\n",
       "      <td>TRAPPIST-1e</td>\n",
       "      <td>34.0</td>\n",
       "      <td>False</td>\n",
       "      <td>0.0</td>\n",
       "      <td>0.0</td>\n",
       "      <td>0.0</td>\n",
       "      <td>0.0</td>\n",
       "      <td>0.0</td>\n",
       "      <td>Jeron Peter</td>\n",
       "    </tr>\n",
       "    <tr>\n",
       "      <th>12966</th>\n",
       "      <td>9269_01</td>\n",
       "      <td>Earth</td>\n",
       "      <td>False</td>\n",
       "      <td>G/160/P</td>\n",
       "      <td>TRAPPIST-1e</td>\n",
       "      <td>42.0</td>\n",
       "      <td>False</td>\n",
       "      <td>0.0</td>\n",
       "      <td>847.0</td>\n",
       "      <td>17.0</td>\n",
       "      <td>10.0</td>\n",
       "      <td>144.0</td>\n",
       "      <td>Matty Scheron</td>\n",
       "    </tr>\n",
       "    <tr>\n",
       "      <th>12967</th>\n",
       "      <td>9271_01</td>\n",
       "      <td>Mars</td>\n",
       "      <td>True</td>\n",
       "      <td>D/296/P</td>\n",
       "      <td>55 Cancri e</td>\n",
       "      <td>18.0</td>\n",
       "      <td>False</td>\n",
       "      <td>0.0</td>\n",
       "      <td>0.0</td>\n",
       "      <td>0.0</td>\n",
       "      <td>0.0</td>\n",
       "      <td>0.0</td>\n",
       "      <td>Jayrin Pore</td>\n",
       "    </tr>\n",
       "    <tr>\n",
       "      <th>12968</th>\n",
       "      <td>9273_01</td>\n",
       "      <td>Europa</td>\n",
       "      <td>False</td>\n",
       "      <td>D/297/P</td>\n",
       "      <td>TRAPPIST-1e</td>\n",
       "      <td>18.0</td>\n",
       "      <td>False</td>\n",
       "      <td>0.0</td>\n",
       "      <td>2680.0</td>\n",
       "      <td>0.0</td>\n",
       "      <td>0.0</td>\n",
       "      <td>523.0</td>\n",
       "      <td>Kitakan Conale</td>\n",
       "    </tr>\n",
       "    <tr>\n",
       "      <th>12969</th>\n",
       "      <td>9277_01</td>\n",
       "      <td>Earth</td>\n",
       "      <td>True</td>\n",
       "      <td>G/1498/S</td>\n",
       "      <td>PSO J318.5-22</td>\n",
       "      <td>43.0</td>\n",
       "      <td>False</td>\n",
       "      <td>0.0</td>\n",
       "      <td>0.0</td>\n",
       "      <td>0.0</td>\n",
       "      <td>0.0</td>\n",
       "      <td>0.0</td>\n",
       "      <td>Lilace Leonzaley</td>\n",
       "    </tr>\n",
       "  </tbody>\n",
       "</table>\n",
       "<p>12970 rows × 13 columns</p>\n",
       "</div>"
      ],
      "text/plain": [
       "      PassengerId HomePlanet CryoSleep     Cabin    Destination   Age    VIP  \\\n",
       "0         0001_01     Europa     False     B/0/P    TRAPPIST-1e  39.0  False   \n",
       "1         0002_01      Earth     False     F/0/S    TRAPPIST-1e  24.0  False   \n",
       "2         0003_01     Europa     False     A/0/S    TRAPPIST-1e  58.0   True   \n",
       "3         0003_02     Europa     False     A/0/S    TRAPPIST-1e  33.0  False   \n",
       "4         0004_01      Earth     False     F/1/S    TRAPPIST-1e  16.0  False   \n",
       "...           ...        ...       ...       ...            ...   ...    ...   \n",
       "12965     9266_02      Earth      True  G/1496/S    TRAPPIST-1e  34.0  False   \n",
       "12966     9269_01      Earth     False   G/160/P    TRAPPIST-1e  42.0  False   \n",
       "12967     9271_01       Mars      True   D/296/P    55 Cancri e  18.0  False   \n",
       "12968     9273_01     Europa     False   D/297/P    TRAPPIST-1e  18.0  False   \n",
       "12969     9277_01      Earth      True  G/1498/S  PSO J318.5-22  43.0  False   \n",
       "\n",
       "      RoomService FoodCourt ShoppingMall     Spa VRDeck               Name  \n",
       "0             0.0       0.0          0.0     0.0    0.0    Maham Ofracculy  \n",
       "1           109.0       9.0         25.0   549.0   44.0       Juanna Vines  \n",
       "2            43.0    3576.0          0.0  6715.0   49.0      Altark Susent  \n",
       "3             0.0    1283.0        371.0  3329.0  193.0       Solam Susent  \n",
       "4           303.0      70.0        151.0   565.0    2.0  Willy Santantines  \n",
       "...           ...       ...          ...     ...    ...                ...  \n",
       "12965         0.0       0.0          0.0     0.0    0.0        Jeron Peter  \n",
       "12966         0.0     847.0         17.0    10.0  144.0      Matty Scheron  \n",
       "12967         0.0       0.0          0.0     0.0    0.0        Jayrin Pore  \n",
       "12968         0.0    2680.0          0.0     0.0  523.0     Kitakan Conale  \n",
       "12969         0.0       0.0          0.0     0.0    0.0   Lilace Leonzaley  \n",
       "\n",
       "[12970 rows x 13 columns]"
      ]
     },
     "execution_count": 20,
     "metadata": {},
     "output_type": "execute_result"
    }
   ],
   "source": [
    "all_df"
   ]
  },
  {
   "cell_type": "code",
   "execution_count": 21,
   "id": "55fee04f",
   "metadata": {
    "ExecuteTime": {
     "end_time": "2022-07-28T13:29:30.445059Z",
     "start_time": "2022-07-28T13:29:30.297530Z"
    },
    "scrolled": true
   },
   "outputs": [
    {
     "data": {
      "text/plain": [
       "PassengerId     0\n",
       "HomePlanet      0\n",
       "CryoSleep       0\n",
       "Cabin           0\n",
       "Destination     0\n",
       "Age             0\n",
       "VIP             0\n",
       "RoomService     0\n",
       "FoodCourt       0\n",
       "ShoppingMall    0\n",
       "Spa             0\n",
       "VRDeck          0\n",
       "Name            0\n",
       "dtype: int64"
      ]
     },
     "execution_count": 21,
     "metadata": {},
     "output_type": "execute_result"
    }
   ],
   "source": [
    "# check emptya\n",
    "all_df.isna().sum()"
   ]
  },
  {
   "cell_type": "code",
   "execution_count": 22,
   "id": "33ca047f",
   "metadata": {
    "ExecuteTime": {
     "end_time": "2022-07-28T13:29:32.410562Z",
     "start_time": "2022-07-28T13:29:30.448071Z"
    },
    "scrolled": true
   },
   "outputs": [
    {
     "data": {
      "text/plain": [
       "<AxesSubplot:>"
      ]
     },
     "execution_count": 22,
     "metadata": {},
     "output_type": "execute_result"
    },
    {
     "data": {
      "image/png": "[encoded data removed]",
      "text/plain": [
       "<Figure size 432x288 with 1 Axes>"
      ]
     },
     "metadata": {
      "needs_background": "light"
     },
     "output_type": "display_data"
    }
   ],
   "source": [
    "all_df.Age.hist(bins = 30)"
   ]
  },
  {
   "cell_type": "markdown",
   "id": "503aebc0",
   "metadata": {},
   "source": [
    "# 3. FEATURE ENGINEERING"
   ]
  },
  {
   "cell_type": "code",
   "execution_count": 23,
   "id": "8cf2c1f5",
   "metadata": {
    "ExecuteTime": {
     "end_time": "2022-07-28T13:29:32.455613Z",
     "start_time": "2022-07-28T13:29:32.413620Z"
    },
    "scrolled": false
   },
   "outputs": [],
   "source": [
    "\n",
    "categorical_columns = all_df.select_dtypes(include='object').columns.values\n",
    "numerical_columns = all_df.select_dtypes(include='number').columns.values"
   ]
  },
  {
   "cell_type": "code",
   "execution_count": 24,
   "id": "abfd0672",
   "metadata": {
    "ExecuteTime": {
     "end_time": "2022-07-28T13:29:32.637651Z",
     "start_time": "2022-07-28T13:29:32.458569Z"
    }
   },
   "outputs": [],
   "source": [
    "all_df[['Deck','Num','Side']] = all_df.Cabin.str.split('/', expand = True)"
   ]
  },
  {
   "cell_type": "code",
   "execution_count": 25,
   "id": "09a3bd40",
   "metadata": {
    "ExecuteTime": {
     "end_time": "2022-07-28T13:29:32.815860Z",
     "start_time": "2022-07-28T13:29:32.640595Z"
    }
   },
   "outputs": [],
   "source": [
    "all_df.drop(columns=['PassengerId','Cabin','Name'],inplace=True)\n"
   ]
  },
  {
   "cell_type": "code",
   "execution_count": 26,
   "id": "06d4f349",
   "metadata": {
    "ExecuteTime": {
     "end_time": "2022-07-28T13:29:32.953080Z",
     "start_time": "2022-07-28T13:29:32.818885Z"
    }
   },
   "outputs": [
    {
     "data": {
      "text/html": [
       "<div>\n",
       "<style scoped>\n",
       "    .dataframe tbody tr th:only-of-type {\n",
       "        vertical-align: middle;\n",
       "    }\n",
       "\n",
       "    .dataframe tbody tr th {\n",
       "        vertical-align: top;\n",
       "    }\n",
       "\n",
       "    .dataframe thead th {\n",
       "        text-align: right;\n",
       "    }\n",
       "</style>\n",
       "<table border=\"1\" class=\"dataframe\">\n",
       "  <thead>\n",
       "    <tr style=\"text-align: right;\">\n",
       "      <th></th>\n",
       "      <th>HomePlanet</th>\n",
       "      <th>CryoSleep</th>\n",
       "      <th>Destination</th>\n",
       "      <th>Age</th>\n",
       "      <th>VIP</th>\n",
       "      <th>RoomService</th>\n",
       "      <th>FoodCourt</th>\n",
       "      <th>ShoppingMall</th>\n",
       "      <th>Spa</th>\n",
       "      <th>VRDeck</th>\n",
       "      <th>Deck</th>\n",
       "      <th>Num</th>\n",
       "      <th>Side</th>\n",
       "    </tr>\n",
       "  </thead>\n",
       "  <tbody>\n",
       "    <tr>\n",
       "      <th>0</th>\n",
       "      <td>Europa</td>\n",
       "      <td>False</td>\n",
       "      <td>TRAPPIST-1e</td>\n",
       "      <td>39.0</td>\n",
       "      <td>False</td>\n",
       "      <td>0.0</td>\n",
       "      <td>0.0</td>\n",
       "      <td>0.0</td>\n",
       "      <td>0.0</td>\n",
       "      <td>0.0</td>\n",
       "      <td>B</td>\n",
       "      <td>0</td>\n",
       "      <td>P</td>\n",
       "    </tr>\n",
       "    <tr>\n",
       "      <th>1</th>\n",
       "      <td>Earth</td>\n",
       "      <td>False</td>\n",
       "      <td>TRAPPIST-1e</td>\n",
       "      <td>24.0</td>\n",
       "      <td>False</td>\n",
       "      <td>109.0</td>\n",
       "      <td>9.0</td>\n",
       "      <td>25.0</td>\n",
       "      <td>549.0</td>\n",
       "      <td>44.0</td>\n",
       "      <td>F</td>\n",
       "      <td>0</td>\n",
       "      <td>S</td>\n",
       "    </tr>\n",
       "    <tr>\n",
       "      <th>2</th>\n",
       "      <td>Europa</td>\n",
       "      <td>False</td>\n",
       "      <td>TRAPPIST-1e</td>\n",
       "      <td>58.0</td>\n",
       "      <td>True</td>\n",
       "      <td>43.0</td>\n",
       "      <td>3576.0</td>\n",
       "      <td>0.0</td>\n",
       "      <td>6715.0</td>\n",
       "      <td>49.0</td>\n",
       "      <td>A</td>\n",
       "      <td>0</td>\n",
       "      <td>S</td>\n",
       "    </tr>\n",
       "    <tr>\n",
       "      <th>3</th>\n",
       "      <td>Europa</td>\n",
       "      <td>False</td>\n",
       "      <td>TRAPPIST-1e</td>\n",
       "      <td>33.0</td>\n",
       "      <td>False</td>\n",
       "      <td>0.0</td>\n",
       "      <td>1283.0</td>\n",
       "      <td>371.0</td>\n",
       "      <td>3329.0</td>\n",
       "      <td>193.0</td>\n",
       "      <td>A</td>\n",
       "      <td>0</td>\n",
       "      <td>S</td>\n",
       "    </tr>\n",
       "    <tr>\n",
       "      <th>4</th>\n",
       "      <td>Earth</td>\n",
       "      <td>False</td>\n",
       "      <td>TRAPPIST-1e</td>\n",
       "      <td>16.0</td>\n",
       "      <td>False</td>\n",
       "      <td>303.0</td>\n",
       "      <td>70.0</td>\n",
       "      <td>151.0</td>\n",
       "      <td>565.0</td>\n",
       "      <td>2.0</td>\n",
       "      <td>F</td>\n",
       "      <td>1</td>\n",
       "      <td>S</td>\n",
       "    </tr>\n",
       "  </tbody>\n",
       "</table>\n",
       "</div>"
      ],
      "text/plain": [
       "  HomePlanet CryoSleep  Destination   Age    VIP RoomService FoodCourt  \\\n",
       "0     Europa     False  TRAPPIST-1e  39.0  False         0.0       0.0   \n",
       "1      Earth     False  TRAPPIST-1e  24.0  False       109.0       9.0   \n",
       "2     Europa     False  TRAPPIST-1e  58.0   True        43.0    3576.0   \n",
       "3     Europa     False  TRAPPIST-1e  33.0  False         0.0    1283.0   \n",
       "4      Earth     False  TRAPPIST-1e  16.0  False       303.0      70.0   \n",
       "\n",
       "  ShoppingMall     Spa VRDeck Deck Num Side  \n",
       "0          0.0     0.0    0.0    B   0    P  \n",
       "1         25.0   549.0   44.0    F   0    S  \n",
       "2          0.0  6715.0   49.0    A   0    S  \n",
       "3        371.0  3329.0  193.0    A   0    S  \n",
       "4        151.0   565.0    2.0    F   1    S  "
      ]
     },
     "execution_count": 26,
     "metadata": {},
     "output_type": "execute_result"
    }
   ],
   "source": [
    "all_df.head()"
   ]
  },
  {
   "cell_type": "code",
   "execution_count": 27,
   "id": "af819ab4",
   "metadata": {
    "ExecuteTime": {
     "end_time": "2022-07-28T13:29:33.289368Z",
     "start_time": "2022-07-28T13:29:32.961057Z"
    }
   },
   "outputs": [
    {
     "data": {
      "text/plain": [
       "<AxesSubplot:xlabel='HomePlanet', ylabel='count'>"
      ]
     },
     "execution_count": 27,
     "metadata": {},
     "output_type": "execute_result"
    },
    {
     "data": {
      "image/png": "[encoded data removed]",
      "text/plain": [
       "<Figure size 432x288 with 1 Axes>"
      ]
     },
     "metadata": {
      "needs_background": "light"
     },
     "output_type": "display_data"
    }
   ],
   "source": [
    "sns.countplot(data = all_df, x  = 'HomePlanet')"
   ]
  },
  {
   "cell_type": "code",
   "execution_count": 28,
   "id": "3fa454fc",
   "metadata": {
    "ExecuteTime": {
     "end_time": "2022-07-28T13:29:33.502656Z",
     "start_time": "2022-07-28T13:29:33.292369Z"
    }
   },
   "outputs": [
    {
     "data": {
      "text/plain": [
       "<AxesSubplot:xlabel='Destination', ylabel='count'>"
      ]
     },
     "execution_count": 28,
     "metadata": {},
     "output_type": "execute_result"
    },
    {
     "data": {
      "image/png": "[encoded data removed]",
      "text/plain": [
       "<Figure size 432x288 with 1 Axes>"
      ]
     },
     "metadata": {
      "needs_background": "light"
     },
     "output_type": "display_data"
    }
   ],
   "source": [
    "sns.countplot(data = all_df, x  = 'Destination')"
   ]
  },
  {
   "cell_type": "code",
   "execution_count": 29,
   "id": "6f66c2a7",
   "metadata": {
    "ExecuteTime": {
     "end_time": "2022-07-28T13:29:33.777046Z",
     "start_time": "2022-07-28T13:29:33.505658Z"
    }
   },
   "outputs": [
    {
     "data": {
      "text/plain": [
       "<AxesSubplot:xlabel='Deck', ylabel='count'>"
      ]
     },
     "execution_count": 29,
     "metadata": {},
     "output_type": "execute_result"
    },
    {
     "data": {
      "image/png": "[encoded data removed]",
      "text/plain": [
       "<Figure size 432x288 with 1 Axes>"
      ]
     },
     "metadata": {
      "needs_background": "light"
     },
     "output_type": "display_data"
    }
   ],
   "source": [
    "sns.countplot(data = all_df, x  = 'Deck')"
   ]
  },
  {
   "cell_type": "code",
   "execution_count": 30,
   "id": "167e6e73",
   "metadata": {
    "ExecuteTime": {
     "end_time": "2022-07-28T13:29:33.978351Z",
     "start_time": "2022-07-28T13:29:33.780018Z"
    },
    "scrolled": false
   },
   "outputs": [
    {
     "data": {
      "text/plain": [
       "<AxesSubplot:xlabel='Side', ylabel='count'>"
      ]
     },
     "execution_count": 30,
     "metadata": {},
     "output_type": "execute_result"
    },
    {
     "data": {
      "image/png": "[encoded data removed]",
      "text/plain": [
       "<Figure size 432x288 with 1 Axes>"
      ]
     },
     "metadata": {
      "needs_background": "light"
     },
     "output_type": "display_data"
    }
   ],
   "source": [
    "sns.countplot(data = all_df, x  = 'Side')"
   ]
  },
  {
   "cell_type": "markdown",
   "id": "5fbdda59",
   "metadata": {},
   "source": [
    "**Here we are converting the text to numerical data so that it can  be processed by a machine learning model**"
   ]
  },
  {
   "cell_type": "code",
   "execution_count": 31,
   "id": "5d7eb47b",
   "metadata": {
    "ExecuteTime": {
     "end_time": "2022-07-28T13:29:33.993369Z",
     "start_time": "2022-07-28T13:29:33.981354Z"
    }
   },
   "outputs": [],
   "source": [
    "all_df.Side = all_df.Side.astype('category')\n",
    "all_df.Side = all_df.Side.cat.codes"
   ]
  },
  {
   "cell_type": "code",
   "execution_count": 32,
   "id": "7b10427c",
   "metadata": {
    "ExecuteTime": {
     "end_time": "2022-07-28T13:29:34.118599Z",
     "start_time": "2022-07-28T13:29:33.996319Z"
    }
   },
   "outputs": [],
   "source": [
    "all_df.CryoSleep = all_df.CryoSleep.astype(int)\n",
    "all_df.VIP = all_df.VIP.astype(int)"
   ]
  },
  {
   "cell_type": "markdown",
   "id": "e430ea81",
   "metadata": {},
   "source": [
    "**ONE HOT ENCODING(OHE)**"
   ]
  },
  {
   "cell_type": "code",
   "execution_count": 33,
   "id": "a944d11e",
   "metadata": {
    "ExecuteTime": {
     "end_time": "2022-07-28T13:29:34.273571Z",
     "start_time": "2022-07-28T13:29:34.121574Z"
    }
   },
   "outputs": [],
   "source": [
    "all_df = pd.get_dummies(all_df, columns=['HomePlanet', 'Destination', 'Deck'], prefix_sep='')"
   ]
  },
  {
   "cell_type": "code",
   "execution_count": 34,
   "id": "0afb50f3",
   "metadata": {
    "ExecuteTime": {
     "end_time": "2022-07-28T13:29:34.339557Z",
     "start_time": "2022-07-28T13:29:34.276557Z"
    },
    "scrolled": false
   },
   "outputs": [
    {
     "data": {
      "text/html": [
       "<div>\n",
       "<style scoped>\n",
       "    .dataframe tbody tr th:only-of-type {\n",
       "        vertical-align: middle;\n",
       "    }\n",
       "\n",
       "    .dataframe tbody tr th {\n",
       "        vertical-align: top;\n",
       "    }\n",
       "\n",
       "    .dataframe thead th {\n",
       "        text-align: right;\n",
       "    }\n",
       "</style>\n",
       "<table border=\"1\" class=\"dataframe\">\n",
       "  <thead>\n",
       "    <tr style=\"text-align: right;\">\n",
       "      <th></th>\n",
       "      <th>CryoSleep</th>\n",
       "      <th>Age</th>\n",
       "      <th>VIP</th>\n",
       "      <th>RoomService</th>\n",
       "      <th>FoodCourt</th>\n",
       "      <th>ShoppingMall</th>\n",
       "      <th>Spa</th>\n",
       "      <th>VRDeck</th>\n",
       "      <th>Num</th>\n",
       "      <th>Side</th>\n",
       "      <th>...</th>\n",
       "      <th>DestinationPSO J318.5-22</th>\n",
       "      <th>DestinationTRAPPIST-1e</th>\n",
       "      <th>DeckA</th>\n",
       "      <th>DeckB</th>\n",
       "      <th>DeckC</th>\n",
       "      <th>DeckD</th>\n",
       "      <th>DeckE</th>\n",
       "      <th>DeckF</th>\n",
       "      <th>DeckG</th>\n",
       "      <th>DeckT</th>\n",
       "    </tr>\n",
       "  </thead>\n",
       "  <tbody>\n",
       "    <tr>\n",
       "      <th>0</th>\n",
       "      <td>0</td>\n",
       "      <td>39.0</td>\n",
       "      <td>0</td>\n",
       "      <td>0.0</td>\n",
       "      <td>0.0</td>\n",
       "      <td>0.0</td>\n",
       "      <td>0.0</td>\n",
       "      <td>0.0</td>\n",
       "      <td>0</td>\n",
       "      <td>0</td>\n",
       "      <td>...</td>\n",
       "      <td>0</td>\n",
       "      <td>1</td>\n",
       "      <td>0</td>\n",
       "      <td>1</td>\n",
       "      <td>0</td>\n",
       "      <td>0</td>\n",
       "      <td>0</td>\n",
       "      <td>0</td>\n",
       "      <td>0</td>\n",
       "      <td>0</td>\n",
       "    </tr>\n",
       "    <tr>\n",
       "      <th>1</th>\n",
       "      <td>0</td>\n",
       "      <td>24.0</td>\n",
       "      <td>0</td>\n",
       "      <td>109.0</td>\n",
       "      <td>9.0</td>\n",
       "      <td>25.0</td>\n",
       "      <td>549.0</td>\n",
       "      <td>44.0</td>\n",
       "      <td>0</td>\n",
       "      <td>1</td>\n",
       "      <td>...</td>\n",
       "      <td>0</td>\n",
       "      <td>1</td>\n",
       "      <td>0</td>\n",
       "      <td>0</td>\n",
       "      <td>0</td>\n",
       "      <td>0</td>\n",
       "      <td>0</td>\n",
       "      <td>1</td>\n",
       "      <td>0</td>\n",
       "      <td>0</td>\n",
       "    </tr>\n",
       "    <tr>\n",
       "      <th>2</th>\n",
       "      <td>0</td>\n",
       "      <td>58.0</td>\n",
       "      <td>1</td>\n",
       "      <td>43.0</td>\n",
       "      <td>3576.0</td>\n",
       "      <td>0.0</td>\n",
       "      <td>6715.0</td>\n",
       "      <td>49.0</td>\n",
       "      <td>0</td>\n",
       "      <td>1</td>\n",
       "      <td>...</td>\n",
       "      <td>0</td>\n",
       "      <td>1</td>\n",
       "      <td>1</td>\n",
       "      <td>0</td>\n",
       "      <td>0</td>\n",
       "      <td>0</td>\n",
       "      <td>0</td>\n",
       "      <td>0</td>\n",
       "      <td>0</td>\n",
       "      <td>0</td>\n",
       "    </tr>\n",
       "    <tr>\n",
       "      <th>3</th>\n",
       "      <td>0</td>\n",
       "      <td>33.0</td>\n",
       "      <td>0</td>\n",
       "      <td>0.0</td>\n",
       "      <td>1283.0</td>\n",
       "      <td>371.0</td>\n",
       "      <td>3329.0</td>\n",
       "      <td>193.0</td>\n",
       "      <td>0</td>\n",
       "      <td>1</td>\n",
       "      <td>...</td>\n",
       "      <td>0</td>\n",
       "      <td>1</td>\n",
       "      <td>1</td>\n",
       "      <td>0</td>\n",
       "      <td>0</td>\n",
       "      <td>0</td>\n",
       "      <td>0</td>\n",
       "      <td>0</td>\n",
       "      <td>0</td>\n",
       "      <td>0</td>\n",
       "    </tr>\n",
       "    <tr>\n",
       "      <th>4</th>\n",
       "      <td>0</td>\n",
       "      <td>16.0</td>\n",
       "      <td>0</td>\n",
       "      <td>303.0</td>\n",
       "      <td>70.0</td>\n",
       "      <td>151.0</td>\n",
       "      <td>565.0</td>\n",
       "      <td>2.0</td>\n",
       "      <td>1</td>\n",
       "      <td>1</td>\n",
       "      <td>...</td>\n",
       "      <td>0</td>\n",
       "      <td>1</td>\n",
       "      <td>0</td>\n",
       "      <td>0</td>\n",
       "      <td>0</td>\n",
       "      <td>0</td>\n",
       "      <td>0</td>\n",
       "      <td>1</td>\n",
       "      <td>0</td>\n",
       "      <td>0</td>\n",
       "    </tr>\n",
       "  </tbody>\n",
       "</table>\n",
       "<p>5 rows × 24 columns</p>\n",
       "</div>"
      ],
      "text/plain": [
       "   CryoSleep   Age  VIP RoomService FoodCourt ShoppingMall     Spa VRDeck Num  \\\n",
       "0          0  39.0    0         0.0       0.0          0.0     0.0    0.0   0   \n",
       "1          0  24.0    0       109.0       9.0         25.0   549.0   44.0   0   \n",
       "2          0  58.0    1        43.0    3576.0          0.0  6715.0   49.0   0   \n",
       "3          0  33.0    0         0.0    1283.0        371.0  3329.0  193.0   0   \n",
       "4          0  16.0    0       303.0      70.0        151.0   565.0    2.0   1   \n",
       "\n",
       "   Side  ...  DestinationPSO J318.5-22  DestinationTRAPPIST-1e  DeckA  DeckB  \\\n",
       "0     0  ...                         0                       1      0      1   \n",
       "1     1  ...                         0                       1      0      0   \n",
       "2     1  ...                         0                       1      1      0   \n",
       "3     1  ...                         0                       1      1      0   \n",
       "4     1  ...                         0                       1      0      0   \n",
       "\n",
       "   DeckC  DeckD  DeckE  DeckF  DeckG  DeckT  \n",
       "0      0      0      0      0      0      0  \n",
       "1      0      0      0      1      0      0  \n",
       "2      0      0      0      0      0      0  \n",
       "3      0      0      0      0      0      0  \n",
       "4      0      0      0      1      0      0  \n",
       "\n",
       "[5 rows x 24 columns]"
      ]
     },
     "execution_count": 34,
     "metadata": {},
     "output_type": "execute_result"
    }
   ],
   "source": [
    "all_df.head()"
   ]
  },
  {
   "cell_type": "code",
   "execution_count": 35,
   "id": "52683563",
   "metadata": {
    "ExecuteTime": {
     "end_time": "2022-07-28T13:29:34.475614Z",
     "start_time": "2022-07-28T13:29:34.342592Z"
    }
   },
   "outputs": [],
   "source": [
    "CUT_INDEX  =  train_df.shape[0]\n",
    "# seperate the data into training and testing\n",
    "train , test = all_df[:CUT_INDEX], all_df[CUT_INDEX:]"
   ]
  },
  {
   "cell_type": "code",
   "execution_count": 36,
   "id": "781d3977",
   "metadata": {
    "ExecuteTime": {
     "end_time": "2022-07-28T13:29:34.645576Z",
     "start_time": "2022-07-28T13:29:34.478627Z"
    },
    "scrolled": true
   },
   "outputs": [
    {
     "data": {
      "text/html": [
       "<div>\n",
       "<style scoped>\n",
       "    .dataframe tbody tr th:only-of-type {\n",
       "        vertical-align: middle;\n",
       "    }\n",
       "\n",
       "    .dataframe tbody tr th {\n",
       "        vertical-align: top;\n",
       "    }\n",
       "\n",
       "    .dataframe thead th {\n",
       "        text-align: right;\n",
       "    }\n",
       "</style>\n",
       "<table border=\"1\" class=\"dataframe\">\n",
       "  <thead>\n",
       "    <tr style=\"text-align: right;\">\n",
       "      <th></th>\n",
       "      <th>CryoSleep</th>\n",
       "      <th>Age</th>\n",
       "      <th>VIP</th>\n",
       "      <th>RoomService</th>\n",
       "      <th>FoodCourt</th>\n",
       "      <th>ShoppingMall</th>\n",
       "      <th>Spa</th>\n",
       "      <th>VRDeck</th>\n",
       "      <th>Num</th>\n",
       "      <th>Side</th>\n",
       "      <th>...</th>\n",
       "      <th>DestinationPSO J318.5-22</th>\n",
       "      <th>DestinationTRAPPIST-1e</th>\n",
       "      <th>DeckA</th>\n",
       "      <th>DeckB</th>\n",
       "      <th>DeckC</th>\n",
       "      <th>DeckD</th>\n",
       "      <th>DeckE</th>\n",
       "      <th>DeckF</th>\n",
       "      <th>DeckG</th>\n",
       "      <th>DeckT</th>\n",
       "    </tr>\n",
       "  </thead>\n",
       "  <tbody>\n",
       "    <tr>\n",
       "      <th>0</th>\n",
       "      <td>0</td>\n",
       "      <td>39.0</td>\n",
       "      <td>0</td>\n",
       "      <td>0.0</td>\n",
       "      <td>0.0</td>\n",
       "      <td>0.0</td>\n",
       "      <td>0.0</td>\n",
       "      <td>0.0</td>\n",
       "      <td>0</td>\n",
       "      <td>0</td>\n",
       "      <td>...</td>\n",
       "      <td>0</td>\n",
       "      <td>1</td>\n",
       "      <td>0</td>\n",
       "      <td>1</td>\n",
       "      <td>0</td>\n",
       "      <td>0</td>\n",
       "      <td>0</td>\n",
       "      <td>0</td>\n",
       "      <td>0</td>\n",
       "      <td>0</td>\n",
       "    </tr>\n",
       "    <tr>\n",
       "      <th>1</th>\n",
       "      <td>0</td>\n",
       "      <td>24.0</td>\n",
       "      <td>0</td>\n",
       "      <td>109.0</td>\n",
       "      <td>9.0</td>\n",
       "      <td>25.0</td>\n",
       "      <td>549.0</td>\n",
       "      <td>44.0</td>\n",
       "      <td>0</td>\n",
       "      <td>1</td>\n",
       "      <td>...</td>\n",
       "      <td>0</td>\n",
       "      <td>1</td>\n",
       "      <td>0</td>\n",
       "      <td>0</td>\n",
       "      <td>0</td>\n",
       "      <td>0</td>\n",
       "      <td>0</td>\n",
       "      <td>1</td>\n",
       "      <td>0</td>\n",
       "      <td>0</td>\n",
       "    </tr>\n",
       "    <tr>\n",
       "      <th>2</th>\n",
       "      <td>0</td>\n",
       "      <td>58.0</td>\n",
       "      <td>1</td>\n",
       "      <td>43.0</td>\n",
       "      <td>3576.0</td>\n",
       "      <td>0.0</td>\n",
       "      <td>6715.0</td>\n",
       "      <td>49.0</td>\n",
       "      <td>0</td>\n",
       "      <td>1</td>\n",
       "      <td>...</td>\n",
       "      <td>0</td>\n",
       "      <td>1</td>\n",
       "      <td>1</td>\n",
       "      <td>0</td>\n",
       "      <td>0</td>\n",
       "      <td>0</td>\n",
       "      <td>0</td>\n",
       "      <td>0</td>\n",
       "      <td>0</td>\n",
       "      <td>0</td>\n",
       "    </tr>\n",
       "    <tr>\n",
       "      <th>3</th>\n",
       "      <td>0</td>\n",
       "      <td>33.0</td>\n",
       "      <td>0</td>\n",
       "      <td>0.0</td>\n",
       "      <td>1283.0</td>\n",
       "      <td>371.0</td>\n",
       "      <td>3329.0</td>\n",
       "      <td>193.0</td>\n",
       "      <td>0</td>\n",
       "      <td>1</td>\n",
       "      <td>...</td>\n",
       "      <td>0</td>\n",
       "      <td>1</td>\n",
       "      <td>1</td>\n",
       "      <td>0</td>\n",
       "      <td>0</td>\n",
       "      <td>0</td>\n",
       "      <td>0</td>\n",
       "      <td>0</td>\n",
       "      <td>0</td>\n",
       "      <td>0</td>\n",
       "    </tr>\n",
       "    <tr>\n",
       "      <th>4</th>\n",
       "      <td>0</td>\n",
       "      <td>16.0</td>\n",
       "      <td>0</td>\n",
       "      <td>303.0</td>\n",
       "      <td>70.0</td>\n",
       "      <td>151.0</td>\n",
       "      <td>565.0</td>\n",
       "      <td>2.0</td>\n",
       "      <td>1</td>\n",
       "      <td>1</td>\n",
       "      <td>...</td>\n",
       "      <td>0</td>\n",
       "      <td>1</td>\n",
       "      <td>0</td>\n",
       "      <td>0</td>\n",
       "      <td>0</td>\n",
       "      <td>0</td>\n",
       "      <td>0</td>\n",
       "      <td>1</td>\n",
       "      <td>0</td>\n",
       "      <td>0</td>\n",
       "    </tr>\n",
       "  </tbody>\n",
       "</table>\n",
       "<p>5 rows × 24 columns</p>\n",
       "</div>"
      ],
      "text/plain": [
       "   CryoSleep   Age  VIP RoomService FoodCourt ShoppingMall     Spa VRDeck Num  \\\n",
       "0          0  39.0    0         0.0       0.0          0.0     0.0    0.0   0   \n",
       "1          0  24.0    0       109.0       9.0         25.0   549.0   44.0   0   \n",
       "2          0  58.0    1        43.0    3576.0          0.0  6715.0   49.0   0   \n",
       "3          0  33.0    0         0.0    1283.0        371.0  3329.0  193.0   0   \n",
       "4          0  16.0    0       303.0      70.0        151.0   565.0    2.0   1   \n",
       "\n",
       "   Side  ...  DestinationPSO J318.5-22  DestinationTRAPPIST-1e  DeckA  DeckB  \\\n",
       "0     0  ...                         0                       1      0      1   \n",
       "1     1  ...                         0                       1      0      0   \n",
       "2     1  ...                         0                       1      1      0   \n",
       "3     1  ...                         0                       1      1      0   \n",
       "4     1  ...                         0                       1      0      0   \n",
       "\n",
       "   DeckC  DeckD  DeckE  DeckF  DeckG  DeckT  \n",
       "0      0      0      0      0      0      0  \n",
       "1      0      0      0      1      0      0  \n",
       "2      0      0      0      0      0      0  \n",
       "3      0      0      0      0      0      0  \n",
       "4      0      0      0      1      0      0  \n",
       "\n",
       "[5 rows x 24 columns]"
      ]
     },
     "execution_count": 36,
     "metadata": {},
     "output_type": "execute_result"
    }
   ],
   "source": [
    "train.head()"
   ]
  },
  {
   "cell_type": "markdown",
   "id": "dbba1173",
   "metadata": {},
   "source": [
    "# 4. MODELLING"
   ]
  },
  {
   "cell_type": "code",
   "execution_count": 37,
   "id": "cb59e7f7",
   "metadata": {
    "ExecuteTime": {
     "end_time": "2022-07-28T13:29:34.792371Z",
     "start_time": "2022-07-28T13:29:34.648558Z"
    }
   },
   "outputs": [],
   "source": [
    "from sklearn.linear_model import LogisticRegression\n",
    "from sklearn.ensemble import RandomForestClassifier,GradientBoostingClassifier,HistGradientBoostingClassifier\n",
    "from sklearn.model_selection import train_test_split, GridSearchCV,StratifiedKFold,cross_val_score,cross_val_predict\n",
    "from sklearn import metrics\n",
    "from sklearn.tree import DecisionTreeClassifier\n",
    "\n",
    "X = train\n",
    "y = transported\n",
    "\n",
    "X_train,X_val, y_train, y_val = train_test_split(X,y, random_state=0,test_size= .2)\n",
    "# here we are  using 80% of our data for training and 20% for validation .\n",
    "\n",
    "\n",
    "\n",
    "class Model:\n",
    "    '''\n",
    "    parameters -> \n",
    "        model : the name of the estimator(model) is passed here\n",
    "        params_dict : the parameter dictionary is passed here\n",
    "        \n",
    "    methods -> \n",
    "        fit: fits the model \n",
    "        cross_validate(cv=k): performs KFold cross validation on the model\n",
    "        \n",
    "    WARNING: Provided the training and testing splits are already provided outside the class\n",
    "    \n",
    "    '''\n",
    "    def __init__(self,model):\n",
    "        self.model = model\n",
    "        print(self.model.__class__)\n",
    "        \n",
    "    def fit(self):\n",
    "        self.model.fit(X_train,y_train)\n",
    "        train_accuracy,validation_accuracy = self.model.score(X_train,y_train),self.model.score(X_val,y_val)\n",
    "        print(f'Train accuracy: {train_accuracy:.4f}')\n",
    "        print(f'Validation accuracy: {validation_accuracy :.4f}')\n",
    "        print(f'Overfit: {train_accuracy - validation_accuracy:.4f}')\n",
    "        \n",
    "    def prediction(self):\n",
    "        return self.model.predict(X_val)\n",
    "        \n",
    "    def cross_validate(self,cv=5):\n",
    "        kf = StratifiedKFold(n_splits=cv)\n",
    "        print('Cross validation score:', np.mean(cross_val_score(self.model,X_train,y_train,cv=kf),axis=0))\n",
    "    \n",
    "    def tune(self, grid_params,k = 5):\n",
    "        grid = GridSearchCV(self.model,grid_params, cv=k , scoring='accuracy',n_jobs=-1)\n",
    "        print('\\n================ EXHAUSTIVE GRID SEARCH ==================')\n",
    "        grid.fit(X_train,y_train)\n",
    "        print(grid.best_estimator_)# printing this as the output to prevent time wasted incase i decide to re-run this entire notebook\n",
    "        \n",
    "        \n",
    "    def save(self,file_name):\n",
    "        X_test = test # test set \n",
    "        sub_file = sample_sub.copy()\n",
    "        sub_file['Transported'] = self.model.predict(X_test)\n",
    "        sub_file.to_csv(file_name,index=False)\n",
    "        print('Prediction saved at', './' + file_name)\n",
    "    \n",
    "    def CM(self):\n",
    "        metrics.plot_confusion_matrix(self.model,X_val,y_val)\n",
    "        \n",
    "        \n",
    "        \n",
    "    \n",
    "    \n",
    "        "
   ]
  },
  {
   "cell_type": "code",
   "execution_count": 38,
   "id": "b382870b",
   "metadata": {
    "ExecuteTime": {
     "end_time": "2022-07-28T13:29:36.422409Z",
     "start_time": "2022-07-28T13:29:34.794378Z"
    }
   },
   "outputs": [
    {
     "name": "stdout",
     "output_type": "stream",
     "text": [
      "<class 'sklearn.ensemble._forest.RandomForestClassifier'>\n",
      "Train accuracy: 0.9994\n",
      "Validation accuracy: 0.8062\n",
      "Overfit: 0.1932\n"
     ]
    }
   ],
   "source": [
    "rf = Model(RandomForestClassifier())\n",
    "rf.fit()"
   ]
  },
  {
   "cell_type": "code",
   "execution_count": 39,
   "id": "0010a56d",
   "metadata": {
    "ExecuteTime": {
     "end_time": "2022-07-28T13:29:36.847596Z",
     "start_time": "2022-07-28T13:29:36.424436Z"
    }
   },
   "outputs": [
    {
     "name": "stdout",
     "output_type": "stream",
     "text": [
      "<class 'sklearn.linear_model._logistic.LogisticRegression'>\n",
      "Train accuracy: 0.7900\n",
      "Validation accuracy: 0.7815\n",
      "Overfit: 0.0086\n"
     ]
    }
   ],
   "source": [
    "lr = Model(LogisticRegression())\n",
    "lr.fit()"
   ]
  },
  {
   "cell_type": "code",
   "execution_count": 40,
   "id": "f5006f2b",
   "metadata": {
    "ExecuteTime": {
     "end_time": "2022-07-28T13:29:40.546584Z",
     "start_time": "2022-07-28T13:29:36.849591Z"
    }
   },
   "outputs": [
    {
     "name": "stdout",
     "output_type": "stream",
     "text": [
      "<class 'sklearn.ensemble._hist_gradient_boosting.gradient_boosting.HistGradientBoostingClassifier'>\n",
      "Train accuracy: 0.8848\n",
      "Validation accuracy: 0.8102\n",
      "Overfit: 0.0746\n"
     ]
    }
   ],
   "source": [
    "gb = Model(HistGradientBoostingClassifier())\n",
    "gb.fit()"
   ]
  },
  {
   "cell_type": "code",
   "execution_count": 41,
   "id": "425fbd10",
   "metadata": {
    "ExecuteTime": {
     "end_time": "2022-07-28T13:29:40.823957Z",
     "start_time": "2022-07-28T13:29:40.554545Z"
    },
    "scrolled": true
   },
   "outputs": [
    {
     "name": "stdout",
     "output_type": "stream",
     "text": [
      "Prediction saved at ./Gradient_Boosting.csv\n"
     ]
    }
   ],
   "source": [
    "gb.save('Gradient_Boosting.csv')"
   ]
  },
  {
   "cell_type": "code",
   "execution_count": 51,
   "id": "d1dac508",
   "metadata": {
    "ExecuteTime": {
     "end_time": "2022-07-28T13:34:12.843314Z",
     "start_time": "2022-07-28T13:34:12.572534Z"
    }
   },
   "outputs": [
    {
     "name": "stdout",
     "output_type": "stream",
     "text": [
      "<class 'sklearn.linear_model._ridge.RidgeClassifier'>\n",
      "Train accuracy: 0.7719\n",
      "Validation accuracy: 0.7585\n",
      "Overfit: 0.0134\n"
     ]
    }
   ],
   "source": [
    "rd = Model(linear_model.RidgeClassifier())\n",
    "rd.fit()"
   ]
  },
  {
   "cell_type": "code",
   "execution_count": 42,
   "id": "837bb7c5",
   "metadata": {
    "ExecuteTime": {
     "end_time": "2022-07-28T13:29:48.015825Z",
     "start_time": "2022-07-28T13:29:40.833957Z"
    }
   },
   "outputs": [
    {
     "name": "stdout",
     "output_type": "stream",
     "text": [
      "0.8033352501437608\n"
     ]
    }
   ],
   "source": [
    "rf = RandomForestClassifier()\n",
    "lr  = LogisticRegression()\n",
    "gb = HistGradientBoostingClassifier()\n",
    "\n",
    "\n",
    "voter = ensemble.VotingClassifier((('c1',rf), ('c2', lr), ('c3',gb)), voting='hard')\n",
    "voter.fit(X_train,y_train)\n",
    "print(voter.score(X_val,y_val))"
   ]
  },
  {
   "cell_type": "code",
   "execution_count": 52,
   "id": "597b44ab",
   "metadata": {
    "ExecuteTime": {
     "end_time": "2022-07-28T13:34:29.253917Z",
     "start_time": "2022-07-28T13:34:27.243796Z"
    }
   },
   "outputs": [
    {
     "name": "stdout",
     "output_type": "stream",
     "text": [
      "0.8102357676825762\n"
     ]
    }
   ],
   "source": [
    "from sklearn.model_selection import RepeatedStratifiedKFold,cross_val_score\n",
    "pipe = make_pipeline(QuantileTransformer(n_quantiles=100,output_distribution='normal'), HistGradientBoostingClassifier())\n",
    "cv = RepeatedStratifiedKFold(n_splits=10,n_repeats=3,random_state=0)\n",
    "n_scores = cross_val_score(pipe,X,y,scoring='accuracy', cv=cv,n_jobs=-1,)"
   ]
  },
  {
   "cell_type": "code",
   "execution_count": null,
   "id": "257957b7",
   "metadata": {},
   "outputs": [],
   "source": []
  }
 ],
 "metadata": {
  "kernelspec": {
   "display_name": "Python 3.9.6 64-bit",
   "language": "python",
   "name": "python396jvsc74a57bd0342aa5655132cbf71a715f798c1954c8e10fd62576e079eb1568ff3b5ac83c42"
  },
  "language_info": {
   "codemirror_mode": {
    "name": "ipython",
    "version": 3
   },
   "file_extension": ".py",
   "mimetype": "text/x-python",
   "name": "python",
   "nbconvert_exporter": "python",
   "pygments_lexer": "ipython3",
   "version": "3.9.6"
  }
 },
 "nbformat": 4,
 "nbformat_minor": 5
}
